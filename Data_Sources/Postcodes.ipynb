{
 "cells": [
  {
   "cell_type": "code",
   "execution_count": 1,
   "id": "9ac91be1",
   "metadata": {},
   "outputs": [],
   "source": [
    "# Dependencies\n",
    "import pandas as pd\n",
    "# from config import api_key\n",
    "import requests\n",
    "import json\n",
    "from pprint import pprint"
   ]
  },
  {
   "cell_type": "code",
   "execution_count": 19,
   "id": "4ac68f03",
   "metadata": {},
   "outputs": [],
   "source": [
    "# Read csv file\n",
    "data1 = pd.read_csv(\"APVInew.csv\")"
   ]
  },
  {
   "cell_type": "code",
   "execution_count": 4,
   "id": "daab93ed",
   "metadata": {},
   "outputs": [],
   "source": [
    "# Change the postcode datatype to sring to pad 0 in front of NT postcodes (Geoapify does not recognise 3 digit postcodes)\n",
    "data1[\"postcode\"]= data1[\"postcode\"].astype(str)"
   ]
  },
  {
   "cell_type": "code",
   "execution_count": 6,
   "id": "3ee04e38",
   "metadata": {},
   "outputs": [],
   "source": [
    "data1[\"postcode\"] = data1[\"postcode\"].str.rjust(4, '0')\n",
    "data1_noduplicates = data1.drop_duplicates(subset=[\"postcode\"], keep=False)"
   ]
  },
  {
   "cell_type": "code",
   "execution_count": 14,
   "id": "6871e2a4",
   "metadata": {},
   "outputs": [],
   "source": [
    "data2 = pd.read_csv(\"Australian_Postcodes_new.csv\")\n"
   ]
  },
  {
   "cell_type": "code",
   "execution_count": 15,
   "id": "5920fca6",
   "metadata": {},
   "outputs": [],
   "source": [
    "data2[\"postcode\"]= data2[\"postcode\"].astype(str)\n",
    "data2[\"postcode\"] = data2[\"postcode\"].str.rjust(4, '0')"
   ]
  },
  {
   "cell_type": "code",
   "execution_count": 16,
   "id": "7c369c51",
   "metadata": {},
   "outputs": [],
   "source": [
    "\n",
    "data2_noduplicates = data2.drop_duplicates(subset=[\"postcode\"])"
   ]
  },
  {
   "cell_type": "code",
   "execution_count": 17,
   "id": "bd4bdbc1",
   "metadata": {},
   "outputs": [],
   "source": [
    "merged = pd.merge(data1, data2_noduplicates, how =\"left\", on='postcode')\n",
    "merged = merged.dropna(subset=['id'])"
   ]
  },
  {
   "cell_type": "code",
   "execution_count": 18,
   "id": "10b6f8a9",
   "metadata": {},
   "outputs": [],
   "source": [
    "merged.to_csv(\"Merged_APVI_Coordinates.csv\")"
   ]
  }
 ],
 "metadata": {
  "kernelspec": {
   "display_name": "Python 3 (ipykernel)",
   "language": "python",
   "name": "python3"
  },
  "language_info": {
   "codemirror_mode": {
    "name": "ipython",
    "version": 3
   },
   "file_extension": ".py",
   "mimetype": "text/x-python",
   "name": "python",
   "nbconvert_exporter": "python",
   "pygments_lexer": "ipython3",
   "version": "3.7.7"
  }
 },
 "nbformat": 4,
 "nbformat_minor": 5
}
